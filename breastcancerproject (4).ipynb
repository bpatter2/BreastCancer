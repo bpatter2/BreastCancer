{
 "cells": [
  {
   "cell_type": "markdown",
   "id": "812ee922",
   "metadata": {
    "papermill": {
     "duration": 0.005073,
     "end_time": "2022-08-19T23:27:16.851773",
     "exception": false,
     "start_time": "2022-08-19T23:27:16.846700",
     "status": "completed"
    },
    "tags": []
   },
   "source": [
    "<font size=\"8\">**Part 1: Breast Cancer Data**</font>\n",
    "\n",
    "\n",
    "<font size=\"5\">In this portion of the project you will use a dataset describing tumors from breast cancer patients. You will classify\n",
    "these tumors as malignant ('M') or benign ('B') using a KNN classifer and a Naive Bayes classifier. Since this\n",
    "dataset does not have any missing values you will not need to address imputations.</font>\n",
    "\n",
    "<font size=\"5\">**Prepare the breastcancer_data.csv dataset**</font>\n",
    "\n",
    "<font size=\"5\">a. Remove the 'id' column, as it will not be helpful to the classification task.</font>\n",
    "\n",
    "<font size=\"5\">b. Seperate the target column ('diagnosis'). You may want to convert these feature\n",
    "values to integers (0 for benign; 1 for malignant).</font>\n",
    "\n"
   ]
  },
  {
   "cell_type": "markdown",
   "id": "5705f663",
   "metadata": {
    "papermill": {
     "duration": 0.003554,
     "end_time": "2022-08-19T23:27:16.859521",
     "exception": false,
     "start_time": "2022-08-19T23:27:16.855967",
     "status": "completed"
    },
    "tags": []
   },
   "source": [
    "<font size=\"5\">Create and test your models**</font>\n",
    "\n",
    "<font size=\"5\">a. Train and test a KNN Classifier and a Naive Bayes Classifier.</font>\n",
    "\n",
    "<font size=\"5\">b. Report cross-validated F1, precision, and recall scores (5 folds) for each varia\n",
    "nt in tabular form as shown below\n",
    "</font>\n"
   ]
  },
  {
   "cell_type": "code",
   "execution_count": 1,
   "id": "2eb78c89",
   "metadata": {
    "_cell_guid": "b1076dfc-b9ad-4769-8c92-a6c4dae69d19",
    "_uuid": "8f2839f25d086af736a60e9eeb907d3b93b6e0e5",
    "execution": {
     "iopub.execute_input": "2022-08-19T23:27:16.869718Z",
     "iopub.status.busy": "2022-08-19T23:27:16.868904Z",
     "iopub.status.idle": "2022-08-19T23:27:18.264664Z",
     "shell.execute_reply": "2022-08-19T23:27:18.263275Z"
    },
    "papermill": {
     "duration": 1.404619,
     "end_time": "2022-08-19T23:27:18.268071",
     "exception": false,
     "start_time": "2022-08-19T23:27:16.863452",
     "status": "completed"
    },
    "tags": []
   },
   "outputs": [],
   "source": [
    "import pandas as pd\n",
    "import numpy as np\n",
    "from sklearn.naive_bayes import GaussianNB\n",
    "from sklearn import metrics\n",
    "from sklearn.model_selection import train_test_split\n",
    "from sklearn.model_selection import cross_val_score"
   ]
  },
  {
   "cell_type": "markdown",
   "id": "4878add0",
   "metadata": {
    "papermill": {
     "duration": 0.003644,
     "end_time": "2022-08-19T23:27:18.276302",
     "exception": false,
     "start_time": "2022-08-19T23:27:18.272658",
     "status": "completed"
    },
    "tags": []
   },
   "source": [
    "<font size=\"8\">**Naive Bayes Classifier**</font>\n"
   ]
  },
  {
   "cell_type": "code",
   "execution_count": 2,
   "id": "84f3173e",
   "metadata": {
    "execution": {
     "iopub.execute_input": "2022-08-19T23:27:18.287097Z",
     "iopub.status.busy": "2022-08-19T23:27:18.286659Z",
     "iopub.status.idle": "2022-08-19T23:27:18.358009Z",
     "shell.execute_reply": "2022-08-19T23:27:18.356647Z"
    },
    "papermill": {
     "duration": 0.080882,
     "end_time": "2022-08-19T23:27:18.361262",
     "exception": false,
     "start_time": "2022-08-19T23:27:18.280380",
     "status": "completed"
    },
    "tags": []
   },
   "outputs": [],
   "source": [
    "#read the csv\n",
    "df = pd.read_csv('../input/breastcancerdata/breastcancer_data.csv')\n",
    "#drop the column titled 'id'\n",
    "df = df.drop(columns = ['id'])\n",
    "#change all values of 'M' to '1' and values of 'B' to '0'\n",
    "df.loc[df['diagnosis'] == 'M','diagnosis'] = '1'\n",
    "df.loc[df['diagnosis'] == 'B','diagnosis'] = '0'\n",
    "#isolate target column\n",
    "y = df['diagnosis']\n",
    "features = df.columns[1:-1].tolist()\n",
    "X = df[features]\n",
    "#Naive Bayes Classifier\n",
    "X_train, X_test, y_train, y_test = train_test_split(X, y, test_size = 0.4, random_state = 1)\n",
    "gnb = GaussianNB()\n",
    "gnb.fit(X_train, y_train)\n",
    "y_pred = gnb.predict(X_test)\n"
   ]
  },
  {
   "cell_type": "markdown",
   "id": "56aee5cf",
   "metadata": {
    "papermill": {
     "duration": 0.003913,
     "end_time": "2022-08-19T23:27:18.369441",
     "exception": false,
     "start_time": "2022-08-19T23:27:18.365528",
     "status": "completed"
    },
    "tags": []
   },
   "source": [
    "<font size=\"7\">**Naive Bayes - Predictions**</font>\n"
   ]
  },
  {
   "cell_type": "code",
   "execution_count": 3,
   "id": "616721ad",
   "metadata": {
    "execution": {
     "iopub.execute_input": "2022-08-19T23:27:18.380590Z",
     "iopub.status.busy": "2022-08-19T23:27:18.379555Z",
     "iopub.status.idle": "2022-08-19T23:27:18.395752Z",
     "shell.execute_reply": "2022-08-19T23:27:18.394297Z"
    },
    "papermill": {
     "duration": 0.025121,
     "end_time": "2022-08-19T23:27:18.398652",
     "exception": false,
     "start_time": "2022-08-19T23:27:18.373531",
     "status": "completed"
    },
    "tags": []
   },
   "outputs": [
    {
     "name": "stdout",
     "output_type": "stream",
     "text": [
      "              precision    recall  f1-score   support\n",
      "\n",
      "           0       0.96      0.95      0.96       148\n",
      "           1       0.91      0.93      0.92        80\n",
      "\n",
      "    accuracy                           0.94       228\n",
      "   macro avg       0.94      0.94      0.94       228\n",
      "weighted avg       0.94      0.94      0.94       228\n",
      "\n"
     ]
    }
   ],
   "source": [
    "#Print Predictions\n",
    "print(metrics.classification_report(y_test, y_pred))\n"
   ]
  },
  {
   "cell_type": "markdown",
   "id": "91f4bf6c",
   "metadata": {
    "papermill": {
     "duration": 0.003888,
     "end_time": "2022-08-19T23:27:18.407104",
     "exception": false,
     "start_time": "2022-08-19T23:27:18.403216",
     "status": "completed"
    },
    "tags": []
   },
   "source": [
    "<font size=\"7\">**Naive Bayes - Cross Validation**</font>"
   ]
  },
  {
   "cell_type": "code",
   "execution_count": 4,
   "id": "bb6544f0",
   "metadata": {
    "execution": {
     "iopub.execute_input": "2022-08-19T23:27:18.419555Z",
     "iopub.status.busy": "2022-08-19T23:27:18.418705Z",
     "iopub.status.idle": "2022-08-19T23:27:18.483102Z",
     "shell.execute_reply": "2022-08-19T23:27:18.481751Z"
    },
    "papermill": {
     "duration": 0.073823,
     "end_time": "2022-08-19T23:27:18.486551",
     "exception": false,
     "start_time": "2022-08-19T23:27:18.412728",
     "status": "completed"
    },
    "tags": []
   },
   "outputs": [
    {
     "name": "stdout",
     "output_type": "stream",
     "text": [
      "Cross-validated scores: [0.9122807  0.92105263 0.94736842 0.94736842 0.95575221]\n",
      "\n",
      "Average F1_micro: 0.94\n"
     ]
    }
   ],
   "source": [
    "scores = cross_val_score(gnb, X, y, cv=5, scoring='f1_micro')\n",
    "print('Cross-validated scores: {}'.format(scores))\n",
    "print()\n",
    "print(\"Average F1_micro: %0.2f\" % (scores.mean()))"
   ]
  },
  {
   "cell_type": "markdown",
   "id": "89644b52",
   "metadata": {
    "papermill": {
     "duration": 0.006154,
     "end_time": "2022-08-19T23:27:18.499720",
     "exception": false,
     "start_time": "2022-08-19T23:27:18.493566",
     "status": "completed"
    },
    "tags": []
   },
   "source": [
    "<font size=\"7\">**KNN Classifier**</font>"
   ]
  },
  {
   "cell_type": "code",
   "execution_count": 5,
   "id": "aa0575a5",
   "metadata": {
    "execution": {
     "iopub.execute_input": "2022-08-19T23:27:18.517469Z",
     "iopub.status.busy": "2022-08-19T23:27:18.516019Z",
     "iopub.status.idle": "2022-08-19T23:27:18.689619Z",
     "shell.execute_reply": "2022-08-19T23:27:18.688314Z"
    },
    "papermill": {
     "duration": 0.184538,
     "end_time": "2022-08-19T23:27:18.692928",
     "exception": false,
     "start_time": "2022-08-19T23:27:18.508390",
     "status": "completed"
    },
    "tags": []
   },
   "outputs": [],
   "source": [
    "from sklearn.neighbors import KNeighborsClassifier\n",
    "knn = KNeighborsClassifier(n_neighbors=5)"
   ]
  },
  {
   "cell_type": "markdown",
   "id": "d0eea99f",
   "metadata": {
    "papermill": {
     "duration": 0.00564,
     "end_time": "2022-08-19T23:27:18.704746",
     "exception": false,
     "start_time": "2022-08-19T23:27:18.699106",
     "status": "completed"
    },
    "tags": []
   },
   "source": [
    "<font size=\"7\">**KNN - Predictions**</font>"
   ]
  },
  {
   "cell_type": "code",
   "execution_count": 6,
   "id": "70ade822",
   "metadata": {
    "execution": {
     "iopub.execute_input": "2022-08-19T23:27:18.718815Z",
     "iopub.status.busy": "2022-08-19T23:27:18.717498Z",
     "iopub.status.idle": "2022-08-19T23:27:18.739571Z",
     "shell.execute_reply": "2022-08-19T23:27:18.737104Z"
    },
    "papermill": {
     "duration": 0.033431,
     "end_time": "2022-08-19T23:27:18.744749",
     "exception": false,
     "start_time": "2022-08-19T23:27:18.711318",
     "status": "completed"
    },
    "tags": []
   },
   "outputs": [
    {
     "name": "stdout",
     "output_type": "stream",
     "text": [
      "              precision    recall  f1-score   support\n",
      "\n",
      "           0       0.96      0.95      0.96       148\n",
      "           1       0.91      0.93      0.92        80\n",
      "\n",
      "    accuracy                           0.94       228\n",
      "   macro avg       0.94      0.94      0.94       228\n",
      "weighted avg       0.94      0.94      0.94       228\n",
      "\n"
     ]
    }
   ],
   "source": [
    "#Print Predictions\n",
    "print(metrics.classification_report(y_test, y_pred))\n"
   ]
  },
  {
   "cell_type": "markdown",
   "id": "2c57221d",
   "metadata": {
    "papermill": {
     "duration": 0.003999,
     "end_time": "2022-08-19T23:27:18.753391",
     "exception": false,
     "start_time": "2022-08-19T23:27:18.749392",
     "status": "completed"
    },
    "tags": []
   },
   "source": [
    "<font size=\"7\">**KNN - Cross Validation**</font>"
   ]
  },
  {
   "cell_type": "code",
   "execution_count": 7,
   "id": "4c689195",
   "metadata": {
    "execution": {
     "iopub.execute_input": "2022-08-19T23:27:18.764614Z",
     "iopub.status.busy": "2022-08-19T23:27:18.763776Z",
     "iopub.status.idle": "2022-08-19T23:27:18.946748Z",
     "shell.execute_reply": "2022-08-19T23:27:18.944157Z"
    },
    "papermill": {
     "duration": 0.194481,
     "end_time": "2022-08-19T23:27:18.952643",
     "exception": false,
     "start_time": "2022-08-19T23:27:18.758162",
     "status": "completed"
    },
    "tags": []
   },
   "outputs": [
    {
     "name": "stdout",
     "output_type": "stream",
     "text": [
      "Cross-validated scores: [0.88596491 0.93859649 0.93859649 0.94736842 0.92920354]\n",
      "\n",
      "Average F1_micro: 0.93\n"
     ]
    }
   ],
   "source": [
    "scores = cross_val_score(knn, X, y, cv=5, scoring='f1_micro')\n",
    "print('Cross-validated scores: {}'.format(scores))\n",
    "print()\n",
    "print(\"Average F1_micro: %0.2f\" % (scores.mean()))"
   ]
  }
 ],
 "metadata": {
  "kernelspec": {
   "display_name": "Python 3",
   "language": "python",
   "name": "python3"
  },
  "language_info": {
   "codemirror_mode": {
    "name": "ipython",
    "version": 3
   },
   "file_extension": ".py",
   "mimetype": "text/x-python",
   "name": "python",
   "nbconvert_exporter": "python",
   "pygments_lexer": "ipython3",
   "version": "3.7.12"
  },
  "papermill": {
   "default_parameters": {},
   "duration": 12.865113,
   "end_time": "2022-08-19T23:27:19.791782",
   "environment_variables": {},
   "exception": null,
   "input_path": "__notebook__.ipynb",
   "output_path": "__notebook__.ipynb",
   "parameters": {},
   "start_time": "2022-08-19T23:27:06.926669",
   "version": "2.3.4"
  }
 },
 "nbformat": 4,
 "nbformat_minor": 5
}
